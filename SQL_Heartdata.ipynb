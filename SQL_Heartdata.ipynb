{
 "cells": [
  {
   "cell_type": "code",
   "execution_count": null,
   "metadata": {
    "collapsed": true
   },
   "outputs": [],
   "source": [
    "#read csv to SQL\n",
    "\n",
    "BULK INSERT Heartdata\n",
    "FROM 'C:\\CSVData\\HeartData_All.csv'\n",
    "WITH\n",
    "(\n",
    "    FIRSTROW = 2,\n",
    "    FIELDTERMINATOR = ',',  \n",
    "    ROWTERMINATOR = '\\n',  \n",
    "    TABLOCK\n",
    ")"
   ]
  },
  {
   "cell_type": "code",
   "execution_count": null,
   "metadata": {
    "collapsed": true
   },
   "outputs": [],
   "source": [
    "import sqlite3\n",
    "from flask import g\n",
    "\n",
    "DATABASE = 'C:\\CSVData\\HeartData_All.sql'\n",
    "\n",
    "def init_db():\n",
    "    with app.app_context():\n",
    "    db = get_db()\n",
    "    with app.open_resource('HeartData_All.sql', mode='r') as f:\n",
    "        db.cursor().executescript(f.read())\n",
    "    db.commit()\n",
    "\n",
    "from yourapplication import init_db\n",
    "init_db()\n",
    "\n",
    "@app.cli.command('initdb')\n",
    "def initdb_command():\n",
    "    \"\"\"Initializes the database.\"\"\"\n",
    "    init_db()\n",
    "    print('Initialized the database.')  "
   ]
  },
  {
   "cell_type": "code",
   "execution_count": 21,
   "metadata": {
    "collapsed": true
   },
   "outputs": [],
   "source": [
    "def get_db():\n",
    "    db = getattr(g, '_database', None)\n",
    "    if db is None:\n",
    "        db = g._database = sqlite3.connect(DATABASE)\n",
    "    return db\n",
    "\n",
    "app.route('/')\n",
    "def show_entries():\n",
    "    db = get_db()\n",
    "    cur = db.execute('select title, text from entries order by id desc')\n",
    "    entries = cur.fetchall()\n",
    "    return render_template('show_entries.html', entries=entries)"
   ]
  }
 ],
 "metadata": {
  "anaconda-cloud": {},
  "kernelspec": {
   "display_name": "Python [conda root]",
   "language": "python",
   "name": "conda-root-py"
  },
  "language_info": {
   "codemirror_mode": {
    "name": "ipython",
    "version": 3
   },
   "file_extension": ".py",
   "mimetype": "text/x-python",
   "name": "python",
   "nbconvert_exporter": "python",
   "pygments_lexer": "ipython3",
   "version": "3.5.2"
  }
 },
 "nbformat": 4,
 "nbformat_minor": 1
}
