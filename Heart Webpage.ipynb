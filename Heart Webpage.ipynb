{
 "cells": [
  {
   "cell_type": "code",
   "execution_count": 1,
   "metadata": {
    "collapsed": true
   },
   "outputs": [],
   "source": [
    "from http.server import BaseHTTPRequestHandler, HTTPServer\n",
    "\n",
    "# HTTPRequestHandler class\n",
    "class HTTPServer_RequestHandler(BaseHTTPRequestHandler):\n",
    "\n",
    "    # GET\n",
    "    def do_GET(self):\n",
    "        # send response status code\n",
    "        self.send_response(200)\n",
    "\n",
    "        # send headers\n",
    "        self.send_header('Content-type','text/html')\n",
    "        self.end_headers()\n",
    "\n",
    "        # determine message to send to client\n",
    "        if self.path == \"/\":\n",
    "            message = \"Hello, world!\"\n",
    "        else:\n",
    "            name = self.path[1:]\n",
    "            message = \"Hello, {}!\".format(name)\n",
    "\n",
    "        # write message\n",
    "        self.wfile.write(bytes(message, \"utf8\"))\n",
    "        return"
   ]
  },
  {
   "cell_type": "code",
   "execution_count": null,
   "metadata": {
    "collapsed": false
   },
   "outputs": [
    {
     "name": "stdout",
     "output_type": "stream",
     "text": [
      "starting server...\n",
      "running server on port 8080...\n"
     ]
    },
    {
     "name": "stderr",
     "output_type": "stream",
     "text": [
      "127.0.0.1 - - [20/Apr/2017 18:44:27] \"GET / HTTP/1.1\" 200 -\n",
      "127.0.0.1 - - [20/Apr/2017 18:44:28] \"GET /favicon.ico HTTP/1.1\" 200 -\n",
      "127.0.0.1 - - [20/Apr/2017 18:45:11] \"GET / HTTP/1.1\" 200 -\n",
      "127.0.0.1 - - [20/Apr/2017 18:45:12] \"GET /favicon.ico HTTP/1.1\" 200 -\n"
     ]
    }
   ],
   "source": [
    "def run():\n",
    "  print('starting server...')\n",
    "\n",
    "  # set up server\n",
    "  port = 8080\n",
    "  server_address = ('127.0.0.1', port)\n",
    "  httpd = HTTPServer(server_address, HTTPServer_RequestHandler)\n",
    "\n",
    "  # run server\n",
    "  print('running server on port {}...'.format(port))\n",
    "  httpd.serve_forever()\n",
    "\n",
    "\n",
    "run()"
   ]
  },
  {
   "cell_type": "code",
   "execution_count": null,
   "metadata": {
    "collapsed": true
   },
   "outputs": [],
   "source": []
  }
 ],
 "metadata": {
  "kernelspec": {
   "display_name": "Python [default]",
   "language": "python",
   "name": "python3"
  },
  "language_info": {
   "codemirror_mode": {
    "name": "ipython",
    "version": 3
   },
   "file_extension": ".py",
   "mimetype": "text/x-python",
   "name": "python",
   "nbconvert_exporter": "python",
   "pygments_lexer": "ipython3",
   "version": "3.5.2"
  }
 },
 "nbformat": 4,
 "nbformat_minor": 2
}
